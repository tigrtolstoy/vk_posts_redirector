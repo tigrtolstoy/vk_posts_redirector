{
 "cells": [
  {
   "cell_type": "markdown",
   "id": "bf11f5be-877c-4378-b5c5-07f3c2bce27c",
   "metadata": {},
   "source": [
    "# Сбор постов из групп VK"
   ]
  },
  {
   "cell_type": "code",
   "execution_count": 1,
   "id": "aa394a81-1c84-4c4e-92f9-5639f30950f9",
   "metadata": {},
   "outputs": [],
   "source": [
    "import os\n",
    "import sys\n",
    "import json\n",
    "from dotenv import dotenv_values"
   ]
  },
  {
   "cell_type": "code",
   "execution_count": 2,
   "id": "12e7f401-f4d0-4e44-b36a-49a8688da2ee",
   "metadata": {},
   "outputs": [],
   "source": [
    "root_dir = os.path.join(os.getcwd(), os.path.pardir)\n",
    "os.chdir(root_dir)"
   ]
  },
  {
   "cell_type": "code",
   "execution_count": 3,
   "id": "e75de500-8a1e-42f4-b3fa-aed102604174",
   "metadata": {},
   "outputs": [],
   "source": [
    "env = dotenv_values()\n",
    "\n",
    "group_id_file_path = os.path.join(root_dir,\n",
    "                                  'notebooks',\n",
    "                                  'group_to_collect_posts.json')\n",
    "\n",
    "with open(group_id_file_path, 'r') as group_id_file:\n",
    "    group_id = json.load(group_id_file)['target_group_id']"
   ]
  },
  {
   "cell_type": "markdown",
   "id": "169a013a-4895-426d-9d4f-1604c9d8312d",
   "metadata": {},
   "source": [
    "## Собираем посты"
   ]
  },
  {
   "cell_type": "code",
   "execution_count": 14,
   "id": "8527cc87-1d30-44c7-befa-02b574e3016b",
   "metadata": {},
   "outputs": [
    {
     "data": {
      "application/vnd.jupyter.widget-view+json": {
       "model_id": "c86e987706c541818d449dffd9decd75",
       "version_major": 2,
       "version_minor": 0
      },
      "text/plain": [
       "  0%|          | 0/20 [00:00<?, ?it/s]"
      ]
     },
     "metadata": {},
     "output_type": "display_data"
    }
   ],
   "source": [
    "from pprint import pprint\n",
    "from tqdm.notebook import tqdm\n",
    "from src.vk.posts_getter import PostsGetter\n",
    "from src.vk.posts_handler import PostsHandler\n",
    "\n",
    "\n",
    "POSTS_TO_COLLECT = 1000\n",
    "OFFSET_STEP = 50\n",
    "\n",
    "collected_posts = []\n",
    "\n",
    "posts_getter = PostsGetter(env['VK_ACCESS_TOKEN'])\n",
    "group_name = posts_getter.get_group_name(group_id)\n",
    "posts_handler = PostsHandler()\n",
    "\n",
    "for offset in tqdm(range(0, POSTS_TO_COLLECT, OFFSET_STEP)):\n",
    "    raw_posts = posts_getter.get_posts_data(group_id, OFFSET_STEP, offset)\n",
    "    posts = posts_handler.process_posts_data(raw_posts, group_name)\n",
    "    collected_posts.extend(posts)"
   ]
  },
  {
   "cell_type": "markdown",
   "id": "ce80706a-5489-43b8-aed7-1edabfe11033",
   "metadata": {},
   "source": [
    "## Сохраняем тексты постов"
   ]
  },
  {
   "cell_type": "code",
   "execution_count": 71,
   "id": "b90b1b0d-6139-47da-b95a-ca28357e4273",
   "metadata": {},
   "outputs": [],
   "source": [
    "for counter, post in enumerate(collected_posts):\n",
    "    fname_to_save = os.path.join('texts/raw_texts', f'{counter}.txt')\n",
    "    with open(fname_to_save, 'w') as text_file:\n",
    "        text_file.write(post.text)"
   ]
  },
  {
   "cell_type": "code",
   "execution_count": 68,
   "id": "e44982e4-d080-46c2-b154-d6ded5e5855b",
   "metadata": {},
   "outputs": [],
   "source": [
    "texts = '\\n'.join(clear_texts) # тексты разделены символами новой строки\n",
    "\n",
    "with open('collected_texts.txt', 'w') as texts_file:\n",
    "    texts_file.write(texts)"
   ]
  },
  {
   "cell_type": "code",
   "execution_count": null,
   "id": "400b634c-70c4-4ec6-8b28-5548625f2889",
   "metadata": {},
   "outputs": [],
   "source": []
  }
 ],
 "metadata": {
  "kernelspec": {
   "display_name": "env_vk_redirector",
   "language": "python",
   "name": "env_vk_redirector"
  },
  "language_info": {
   "codemirror_mode": {
    "name": "ipython",
    "version": 3
   },
   "file_extension": ".py",
   "mimetype": "text/x-python",
   "name": "python",
   "nbconvert_exporter": "python",
   "pygments_lexer": "ipython3",
   "version": "3.9.5"
  }
 },
 "nbformat": 4,
 "nbformat_minor": 5
}
